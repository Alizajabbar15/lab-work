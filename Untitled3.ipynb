{
 "cells": [
  {
   "cell_type": "code",
   "execution_count": null,
   "id": "a3e41ba9",
   "metadata": {},
   "outputs": [],
   "source": [
    "import numpy as np\n",
    "import matplotlib.pyplot as plt\n"
   ]
  },
  {
   "cell_type": "code",
   "execution_count": 1,
   "id": "89744170",
   "metadata": {},
   "outputs": [
    {
     "name": "stdout",
     "output_type": "stream",
     "text": [
      "\t f'(x)\t\t err\t\t f''(x)\t\t err\n"
     ]
    }
   ],
   "source": [
    "f =lambda x: 0.1*x**5 - 0.2*x**3 +0.1*x-0.2\n",
    "\n",
    "x=0.1\n",
    "h=0.1\n",
    "\n",
    "df1 = 0.09405\n",
    "df2 = -0.118\n",
    "print(\"\\t f'(x)\\t\\t err\\t\\t f''(x)\\t\\t err\")\n"
   ]
  },
  {
   "cell_type": "code",
   "execution_count": 3,
   "id": "702256c5",
   "metadata": {},
   "outputs": [
    {
     "name": "stdout",
     "output_type": "stream",
     "text": [
      "FFD\t 0.086310\t-0.007740\t-0.222000\t-0.104000\n"
     ]
    }
   ],
   "source": [
    "#forward differences\n",
    "dff1 = (f(x+h)-f(x))/h\n",
    "dff2= (f(x+2*h)-2*f(x+h)+f(x))/h**2\n",
    "print(\"FFD\\t% f\\t% f\\t% f\\t% f\"%(dff1,dff1-df1,dff2, dff2-df2))\n"
   ]
  },
  {
   "cell_type": "code",
   "execution_count": 5,
   "id": "9a97aa4c",
   "metadata": {},
   "outputs": [
    {
     "name": "stdout",
     "output_type": "stream",
     "text": [
      "BFD\t 0.098010\t 0.003960\t 0.000000\t 0.118000\n"
     ]
    }
   ],
   "source": [
    "#backward differences\n",
    "dff1 = (f(x)-f(x-h))/h\n",
    "dff2= (f(x)-2*f(x-h)+f(x-2*h))/h**2\n",
    "print(\"BFD\\t% f\\t% f\\t% f\\t% f\"%(dff1,dff1-df1,dff2, dff2-df2))"
   ]
  },
  {
   "cell_type": "code",
   "execution_count": 8,
   "id": "4b8f6638",
   "metadata": {},
   "outputs": [
    {
     "name": "stdout",
     "output_type": "stream",
     "text": [
      "CFD\t 0.092160\t-0.001890\t-0.117000\t 0.001000\n"
     ]
    }
   ],
   "source": [
    "#central differences\n",
    "dff1 = (f(x+h)-f(x-h))/(2*h)\n",
    "dff2= (f(x+h)-2*f(x)+f(x-h))/h**2\n",
    "print(\"CFD\\t% f\\t% f\\t% f\\t% f\"%(dff1,dff1-df1,dff2, dff2-df2))"
   ]
  },
  {
   "cell_type": "code",
   "execution_count": 9,
   "id": "0e808e7a",
   "metadata": {},
   "outputs": [
    {
     "name": "stdout",
     "output_type": "stream",
     "text": [
      "\t f'(x)\t\t err\t\t f''(x)\t\t err\n",
      "FFD\t 0.086310\t-0.007740\t-0.222000\t-0.104000\n",
      "BFD\t 0.098010\t 0.003960\t 0.000000\t 0.118000\n",
      "CFD\t 0.092160\t-0.001890\t-0.117000\t 0.001000\n"
     ]
    }
   ],
   "source": [
    "import numpy as np\n",
    "import matplotlib.pyplot as plt\n",
    "f =lambda x: 0.1*x**5 - 0.2*x**3 +0.1*x-0.2\n",
    "\n",
    "x=0.1\n",
    "h=0.1\n",
    "\n",
    "df1 = 0.09405\n",
    "df2 = -0.118\n",
    "print(\"\\t f'(x)\\t\\t err\\t\\t f''(x)\\t\\t err\")\n",
    "\n",
    "#forward differences\n",
    "dff1 = (f(x+h)-f(x))/h\n",
    "dff2= (f(x+2*h)-2*f(x+h)+f(x))/h**2\n",
    "print(\"FFD\\t% f\\t% f\\t% f\\t% f\"%(dff1,dff1-df1,dff2, dff2-df2))\n",
    "\n",
    "#backward differences\n",
    "dff1 = (f(x)-f(x-h))/h\n",
    "dff2= (f(x)-2*f(x-h)+f(x-2*h))/h**2\n",
    "print(\"BFD\\t% f\\t% f\\t% f\\t% f\"%(dff1,dff1-df1,dff2, dff2-df2))\n",
    "\n",
    "#central differences\n",
    "dff1 = (f(x+h)-f(x-h))/(2*h)\n",
    "dff2= (f(x+h)-2*f(x)+f(x-h))/h**2\n",
    "print(\"CFD\\t% f\\t% f\\t% f\\t% f\"%(dff1,dff1-df1,dff2, dff2-df2))"
   ]
  },
  {
   "cell_type": "code",
   "execution_count": null,
   "id": "4c776e58",
   "metadata": {},
   "outputs": [],
   "source": []
  },
  {
   "cell_type": "code",
   "execution_count": 13,
   "id": "5826bbde",
   "metadata": {},
   "outputs": [
    {
     "data": {
      "image/png": "[encoded data removed]",
      "text/plain": [
       "<Figure size 432x288 with 1 Axes>"
      ]
     },
     "metadata": {
      "needs_background": "light"
     },
     "output_type": "display_data"
    }
   ],
   "source": [
    "import numpy as np\n",
    "import matplotlib.pyplot as plt\n",
    "f =lambda x: 0.1*x**5 - 0.2*x**3 +0.1*x-0.2\n",
    "h=0.01\n",
    "\n",
    "#will create an array of elements between -1 and 1 having 50 equally spaced grid points\n",
    "x= np.linspace(-1,1,50)\n",
    "\n",
    "#central differences\n",
    "dff1 = (f(x+h)-f(x-h))/(2*h)\n",
    "dff2= (f(x+h)-2*f(x)+f(x-h))/h**2\n",
    "\n",
    "#plot\n",
    "plt.plot(x,f(x),'.k',x,dff1,'--b',x,dff2,'-.r')\n",
    "plt.xlabel('x')\n",
    "plt.ylabel('y')\n",
    "\n",
    "plt.legend([\"f(x)\",\"f'(x)\",\"f''(x)\"])\n",
    "plt.grid()"
   ]
  },
  {
   "cell_type": "code",
   "execution_count": 23,
   "id": "03a443ae",
   "metadata": {},
   "outputs": [
    {
     "data": {
      "text/plain": [
       "Text(0.5, 0, 'x')"
      ]
     },
     "execution_count": 23,
     "metadata": {},
     "output_type": "execute_result"
    },
    {
     "data": {
      "image/png": "[encoded data removed]",
      "text/plain": [
       "<Figure size 432x288 with 1 Axes>"
      ]
     },
     "metadata": {
      "needs_background": "light"
     },
     "output_type": "display_data"
    }
   ],
   "source": [
    "plt.xlabel('x')"
   ]
  },
  {
   "cell_type": "code",
   "execution_count": 24,
   "id": "8be59302",
   "metadata": {},
   "outputs": [
    {
     "data": {
      "text/plain": [
       "Text(0, 0.5, 'y')"
      ]
     },
     "execution_count": 24,
     "metadata": {},
     "output_type": "execute_result"
    },
    {
     "data": {
      "image/png": "[encoded data removed]",
      "text/plain": [
       "<Figure size 432x288 with 1 Axes>"
      ]
     },
     "metadata": {
      "needs_background": "light"
     },
     "output_type": "display_data"
    }
   ],
   "source": [
    "plt.ylabel('y')"
   ]
  },
  {
   "cell_type": "code",
   "execution_count": 26,
   "id": "2a9942dd",
   "metadata": {},
   "outputs": [
    {
     "data": {
      "image/png": "[encoded data removed]",
      "text/plain": [
       "<Figure size 432x288 with 1 Axes>"
      ]
     },
     "metadata": {
      "needs_background": "light"
     },
     "output_type": "display_data"
    }
   ],
   "source": [
    "plt.legend([\"f(x)\",\"f'(x)\",\"f''(x)\"])\n",
    "plt.grid()"
   ]
  },
  {
   "cell_type": "code",
   "execution_count": 27,
   "id": "592d20c3",
   "metadata": {},
   "outputs": [
    {
     "data": {
      "image/png": "[encoded data removed]",
      "text/plain": [
       "<Figure size 432x288 with 1 Axes>"
      ]
     },
     "metadata": {
      "needs_background": "light"
     },
     "output_type": "display_data"
    }
   ],
   "source": [
    "import numpy as np\n",
    "import matplotlib.pyplot as plt\n",
    "f =lambda x: 0.1*x**5 - 0.2*x**3 +0.1*x-0.2\n",
    "h=0.0001\n",
    "\n",
    "#will create an array of elements between -1 and 1 having 50 equally spaced grid points\n",
    "x= np.linspace(-1,1,50)\n",
    "\n",
    "#central differences\n",
    "dff1 = (f(x+h)-f(x-h))/(2*h)\n",
    "dff2= (f(x+h)-2*f(x)+f(x-h))/h**2\n",
    "\n",
    "#plot\n",
    "plt.plot(x,f(x),'.k',x,dff1,'--b',x,dff2,'-.r')\n",
    "plt.xlabel('x')\n",
    "plt.ylabel('y')\n",
    "\n",
    "plt.legend([\"f(x)\",\"f'(x)\",\"f''(x)\"])\n",
    "plt.grid()"
   ]
  },
  {
   "cell_type": "code",
   "execution_count": null,
   "id": "35a49d58",
   "metadata": {},
   "outputs": [],
   "source": []
  }
 ],
 "metadata": {
  "kernelspec": {
   "display_name": "Python 3 (ipykernel)",
   "language": "python",
   "name": "python3"
  },
  "language_info": {
   "codemirror_mode": {
    "name": "ipython",
    "version": 3
   },
   "file_extension": ".py",
   "mimetype": "text/x-python",
   "name": "python",
   "nbconvert_exporter": "python",
   "pygments_lexer": "ipython3",
   "version": "3.9.7"
  }
 },
 "nbformat": 4,
 "nbformat_minor": 5
}
